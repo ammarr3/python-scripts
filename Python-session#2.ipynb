{
 "cells": [
  {
   "cell_type": "code",
   "execution_count": 8,
   "metadata": {},
   "outputs": [
    {
     "name": "stdout",
     "output_type": "stream",
     "text": [
      "hello \t world\n"
     ]
    }
   ],
   "source": [
    "print(\"hello \\t world\")\n"
   ]
  },
  {
   "cell_type": "code",
   "execution_count": 3,
   "metadata": {},
   "outputs": [
    {
     "data": {
      "text/plain": [
       "str"
      ]
     },
     "execution_count": 3,
     "metadata": {},
     "output_type": "execute_result"
    }
   ],
   "source": [
    "hello = 'a'\n",
    "type(hello)"
   ]
  },
  {
   "cell_type": "code",
   "execution_count": 4,
   "metadata": {},
   "outputs": [
    {
     "data": {
      "text/plain": [
       "int"
      ]
     },
     "execution_count": 4,
     "metadata": {},
     "output_type": "execute_result"
    }
   ],
   "source": [
    "hello = 123\n",
    "type(hello)"
   ]
  },
  {
   "cell_type": "code",
   "execution_count": 6,
   "metadata": {},
   "outputs": [
    {
     "name": "stdout",
     "output_type": "stream",
     "text": [
      "1.3333333333333333\n"
     ]
    }
   ],
   "source": [
    "n1 = 4\n",
    "n2 = 3\n",
    "ans = 4/3\n",
    "print(ans)"
   ]
  },
  {
   "cell_type": "code",
   "execution_count": 7,
   "metadata": {},
   "outputs": [
    {
     "name": "stdout",
     "output_type": "stream",
     "text": [
      "1\n"
     ]
    }
   ],
   "source": [
    "n1 = 4\n",
    "n2 = 3\n",
    "ans = 4//3\n",
    "print(ans)"
   ]
  },
  {
   "cell_type": "code",
   "execution_count": 16,
   "metadata": {},
   "outputs": [
    {
     "name": "stdout",
     "output_type": "stream",
     "text": [
      "Firstnum?2\n",
      "Secondnum?3\n",
      "remainder: 2\n"
     ]
    }
   ],
   "source": [
    "n1 = float(input(\"Firstnum?\"))\n",
    "n2 = float(input(\"Secondnum?\"))\n",
    "rem = int(n1%n2)\n",
    "if(n1==n2):\n",
    "    rem = 0\n",
    "print (\"remainder: \" + str(rem))"
   ]
  },
  {
   "cell_type": "code",
   "execution_count": 36,
   "metadata": {},
   "outputs": [
    {
     "name": "stdout",
     "output_type": "stream",
     "text": [
      "Enter a?\n",
      "2\n",
      "Enter b?\n",
      "3\n",
      "Enter c?\n",
      "3\n",
      "Pos:\n",
      "(-2.9999999999999996+3.872983346207417j)\n",
      "Neg:\n",
      "(-3.0000000000000004-3.872983346207417j)\n",
      "Discriminant:\n",
      "(2.3715183290419594e-16+3.872983346207417j)\n"
     ]
    }
   ],
   "source": [
    "a = int(input(\"Enter a?\\n\"))\n",
    "b = int(input(\"Enter b?\\n\"))\n",
    "c = int(input(\"Enter c?\\n\"))\n",
    "dis = (b**2-4*a*c)**0.5\n",
    "pos = -b+dis/2*a\n",
    "neg = -b-dis/2*a\n",
    "\n",
    "print(\"Pos:\\n\" + str(pos) + \"\\nNeg:\\n\" + str(neg))\n",
    "print(\"Discriminant:\\n\" + str(dis))"
   ]
  },
  {
   "cell_type": "code",
   "execution_count": 33,
   "metadata": {
    "tags": [
     "str-length"
    ]
   },
   "outputs": [
    {
     "name": "stdout",
     "output_type": "stream",
     "text": [
      "Enter Name ?\n",
      "a23\n",
      "Length: 0\n"
     ]
    }
   ],
   "source": [
    "name = input(\"Enter Name ?\\n\")\n",
    "if(type(name) != 'str'):\n",
    "    length = 0\n",
    "else:    \n",
    "    length = len(name)\n",
    "\n",
    "print(\"Length: \" + str(length))"
   ]
  },
  {
   "cell_type": "code",
   "execution_count": 42,
   "metadata": {
    "tags": [
     "greatest-of-3"
    ]
   },
   "outputs": [
    {
     "name": "stdout",
     "output_type": "stream",
     "text": [
      "a : 2\n",
      "b : 3\n",
      "c : 4\n",
      "Greatest number: c\n"
     ]
    }
   ],
   "source": [
    "a = int(input(\"a : \"))\n",
    "b = int(input(\"b : \"))\n",
    "c = int(input(\"c : \"))\n",
    "max = \"\"\n",
    "if (a>b and a>c):\n",
    "    max = \"a\"\n",
    "elif (b>a and b>c):\n",
    "    max = \"b\"\n",
    "else:\n",
    "    max = \"c\"\n",
    "print(\"Greatest number: \" + max)"
   ]
  },
  {
   "cell_type": "code",
   "execution_count": 8,
   "metadata": {
    "tags": [
     "single-line-comment"
    ]
   },
   "outputs": [
    {
     "name": "stdout",
     "output_type": "stream",
     "text": [
      "HELLO\n"
     ]
    }
   ],
   "source": [
    "#helloworld\n",
    "print(\"HELLO\")"
   ]
  },
  {
   "cell_type": "code",
   "execution_count": 47,
   "metadata": {
    "tags": [
     "multi-line-comment"
    ]
   },
   "outputs": [
    {
     "name": "stdout",
     "output_type": "stream",
     "text": [
      "hello\n"
     ]
    }
   ],
   "source": [
    "'''hello\n",
    "sjjs\n",
    "sjjs'''\n",
    "print(\"hello\")"
   ]
  },
  {
   "cell_type": "code",
   "execution_count": 48,
   "metadata": {
    "tags": [
     "print-array"
    ]
   },
   "outputs": [
    {
     "name": "stdout",
     "output_type": "stream",
     "text": [
      "KHI\n"
     ]
    }
   ],
   "source": [
    "cities = [\"KHI\",\"LHR\",\"ISL\"]\n",
    "print(cities[0])"
   ]
  },
  {
   "cell_type": "code",
   "execution_count": 49,
   "metadata": {
    "tags": [
     "attach-in-the-end"
    ]
   },
   "outputs": [
    {
     "name": "stdout",
     "output_type": "stream",
     "text": [
      "['KHI', 'LHR', 'ISL', 'RWL']\n"
     ]
    }
   ],
   "source": [
    "cities.append(\"RWL\")\n",
    "print(cities)"
   ]
  },
  {
   "cell_type": "code",
   "execution_count": 7,
   "metadata": {
    "tags": [
     "insert-at-the-start"
    ]
   },
   "outputs": [
    {
     "name": "stdout",
     "output_type": "stream",
     "text": [
      "Insert City: MIR\n",
      "Position in array: 3\n",
      "['KHI', 'LHR', 'MIR', 'ISL']\n"
     ]
    }
   ],
   "source": [
    "cities = [\"KHI\",\"LHR\",\"ISL\"]\n",
    "city = str(input(\"Insert City: \"))\n",
    "c3 = int(input(\"Position in array: \"))\n",
    "c3 -= 1\n",
    "cities.insert(c3,city)\n",
    "print(cities)"
   ]
  },
  {
   "cell_type": "code",
   "execution_count": 5,
   "metadata": {},
   "outputs": [
    {
     "name": "stdout",
     "output_type": "stream",
     "text": [
      "City to Remove: LHR\n",
      "['KHI', 'ISL']\n"
     ]
    }
   ],
   "source": [
    "cities = [\"KHI\",\"LHR\",\"ISL\"]\n",
    "c1 = str(input(\"City to Remove: \"))\n",
    "c2 = cities.index(c1)\n",
    "cities.remove(cities[c2])\n",
    "print(cities)"
   ]
  },
  {
   "cell_type": "code",
   "execution_count": 4,
   "metadata": {
    "tags": [
     "slicing"
    ]
   },
   "outputs": [
    {
     "data": {
      "text/plain": [
       "['ISL']"
      ]
     },
     "execution_count": 4,
     "metadata": {},
     "output_type": "execute_result"
    }
   ],
   "source": [
    "cities[1:3]"
   ]
  },
  {
   "cell_type": "code",
   "execution_count": null,
   "metadata": {},
   "outputs": [],
   "source": []
  }
 ],
 "metadata": {
  "celltoolbar": "Tags",
  "kernelspec": {
   "display_name": "Python 3",
   "language": "python",
   "name": "python3"
  },
  "language_info": {
   "codemirror_mode": {
    "name": "ipython",
    "version": 3
   },
   "file_extension": ".py",
   "mimetype": "text/x-python",
   "name": "python",
   "nbconvert_exporter": "python",
   "pygments_lexer": "ipython3",
   "version": "3.7.3"
  }
 },
 "nbformat": 4,
 "nbformat_minor": 2
}
